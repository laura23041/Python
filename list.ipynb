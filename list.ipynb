{
 "cells": [
  {
   "cell_type": "code",
   "execution_count": 8,
   "metadata": {},
   "outputs": [
    {
     "name": "stdout",
     "output_type": "stream",
     "text": [
      "['table', 'chair', 'shelf', 'sofa']\n",
      "['table', 'chair']\n",
      "sofa\n"
     ]
    }
   ],
   "source": [
    "thislist = [\"table\", \"chair\", \"shelf\", \"sofa\"]\n",
    "print (thislist)\n",
    "\n",
    "print (thislist[0:2])\n",
    "\n",
    "print(thislist[3])\n",
    "\n",
    "\n",
    "\n",
    "\n"
   ]
  },
  {
   "cell_type": "code",
   "execution_count": 72,
   "metadata": {},
   "outputs": [
    {
     "name": "stdout",
     "output_type": "stream",
     "text": [
      "[10, 12, 13, 13, 14]\n",
      "62\n",
      "14\n",
      "[18, 11, 4, 1, 19]\n"
     ]
    }
   ],
   "source": [
    "from random import randint\n",
    "\n",
    "thrownDiceNumbers = []\n",
    "\n",
    "for i in range(5):\n",
    "    randomnumber = randint(10,15)\n",
    "    thrownDiceNumbers.append(randomnumber)\n",
    "print (thrownDiceNumbers)\n",
    "\n",
    "kakka = 0\n",
    "for number in thrownDiceNumbers:\n",
    "    kakka += number\n",
    "print(kakka)\n",
    "\n",
    "highest_value = 0\n",
    "for number in thrownDiceNumbers: \n",
    "    if number > highest_value:\n",
    "        highest_value = number\n",
    "print (highest_value)\n",
    "\n",
    "\n",
    "\n",
    "\n",
    "\n",
    "#3:\n",
    "\n",
    "list = []\n",
    "\n",
    "while len(list) < 5:\n",
    "    randomnumber = randint (1,20)\n",
    "    if randomnumber not in list:\n",
    "        list.append(randomnumber)\n",
    "\n",
    "print(list)\n",
    "\n",
    "\n",
    "\n",
    "\n"
   ]
  }
 ],
 "metadata": {
  "kernelspec": {
   "display_name": "Python 3",
   "language": "python",
   "name": "python3"
  },
  "language_info": {
   "codemirror_mode": {
    "name": "ipython",
    "version": 3
   },
   "file_extension": ".py",
   "mimetype": "text/x-python",
   "name": "python",
   "nbconvert_exporter": "python",
   "pygments_lexer": "ipython3",
   "version": "3.12.0"
  }
 },
 "nbformat": 4,
 "nbformat_minor": 2
}
