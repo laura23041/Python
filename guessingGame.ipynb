{
 "cells": [
  {
   "cell_type": "code",
   "execution_count": 2,
   "metadata": {},
   "outputs": [
    {
     "name": "stdout",
     "output_type": "stream",
     "text": [
      "Guess again...\n",
      "Guess again...\n",
      "Guess again...\n",
      "Guess again...\n",
      "Guess again...\n",
      "Hint: Her name starts with the letter 'L'\n",
      "Guess again...\n",
      "Guess again...\n",
      "Congratulations!\n",
      "Guesses: 9\n"
     ]
    }
   ],
   "source": [
    "#import pandas as pds\n",
    "\n",
    "name = \"Laura\"\n",
    "guess = None\n",
    "guesses = 0 \n",
    "\n",
    "\n",
    "while guess != \"Laura\":\n",
    "    guess = input(\"Guess a name!\")\n",
    "    if guess == name: \n",
    "        guesses += 1\n",
    "        print(\"Congratulations!\")\n",
    "        print (\"Guesses:\", guesses)\n",
    "    elif guesses == 5: \n",
    "        guesses += 1\n",
    "        print (\"Hint: Her name starts with the letter 'L'\")\n",
    "    elif guesses == 10:\n",
    "        guesses += 1 \n",
    "        print (\"Hint: 'L..r.'.\")\n",
    "    else:\n",
    "        guesses += 1\n",
    "        print(\"Guess again...\")\n",
    "\n",
    "\n",
    "\n"
   ]
  }
 ],
 "metadata": {
  "kernelspec": {
   "display_name": "Python 3",
   "language": "python",
   "name": "python3"
  },
  "language_info": {
   "codemirror_mode": {
    "name": "ipython",
    "version": 3
   },
   "file_extension": ".py",
   "mimetype": "text/x-python",
   "name": "python",
   "nbconvert_exporter": "python",
   "pygments_lexer": "ipython3",
   "version": "3.12.0"
  }
 },
 "nbformat": 4,
 "nbformat_minor": 2
}
