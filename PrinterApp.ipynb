{
 "cells": [
  {
   "cell_type": "code",
   "execution_count": 4,
   "metadata": {},
   "outputs": [],
   "source": [
    "creator = \"Laura\"\n",
    "\n",
    "\n"
   ]
  },
  {
   "cell_type": "code",
   "execution_count": 47,
   "metadata": {},
   "outputs": [],
   "source": [
    "\n",
    "number1 = 5\n",
    "number2 = 9\n",
    "multiplication = number1 * number2\n",
    "addition = number1 + number2\n",
    "substraction = number1 - number2\n",
    "division = number1 / number2\n",
    "\n"
   ]
  },
  {
   "cell_type": "code",
   "execution_count": 48,
   "metadata": {},
   "outputs": [
    {
     "name": "stdout",
     "output_type": "stream",
     "text": [
      "Printer App\n",
      "This App Is Made By: Laura\n",
      "The value of number1 is: 5\n",
      "The value of number2 is: 9\n",
      "5 * 9 = 45\n",
      "5 + 9 = 14\n",
      "5 - 9 = -4\n",
      "5 / 9 = 0.5555555555555556\n"
     ]
    }
   ],
   "source": [
    "print (\"Printer App\")\n",
    "print (\"This App Is Made By:\", creator)\n",
    "#print (number1)\n",
    "print (\"The value of number1 is:\", number1)\n",
    "print (\"The value of number2 is:\", number2)\n",
    "print(number1, \"*\", number2, \"=\", multiplication)\n",
    "print(number1, \"+\", number2, \"=\", addition)\n",
    "print(number1, \"-\", number2, \"=\", substraction)\n",
    "print(number1, \"/\", number2, \"=\", division)\n",
    "\n",
    "\n",
    "\n"
   ]
  }
 ],
 "metadata": {
  "kernelspec": {
   "display_name": "Python 3",
   "language": "python",
   "name": "python3"
  },
  "language_info": {
   "codemirror_mode": {
    "name": "ipython",
    "version": 3
   },
   "file_extension": ".py",
   "mimetype": "text/x-python",
   "name": "python",
   "nbconvert_exporter": "python",
   "pygments_lexer": "ipython3",
   "version": "3.12.0"
  }
 },
 "nbformat": 4,
 "nbformat_minor": 2
}
